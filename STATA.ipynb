{
 "cells": [
  {
   "cell_type": "markdown",
   "id": "983370cb-42f2-4982-bf32-354db03b3f8d",
   "metadata": {},
   "source": [
    "# Using STATA and interpreting STATA Output"
   ]
  },
  {
   "cell_type": "markdown",
   "id": "eb2ded3e-ffde-4ab0-988b-34efeaa9e45f",
   "metadata": {},
   "source": [
    "## Navigation"
   ]
  },
  {
   "cell_type": "code",
   "execution_count": 1,
   "id": "ba5989ad-a210-4d5a-97ab-6977b8dfe3d0",
   "metadata": {},
   "outputs": [
    {
     "name": "stdout",
     "output_type": "stream",
     "text": [
      "\n",
      "  ___  ____  ____  ____  ____ ®\n",
      " /__    /   ____/   /   ____/      StataNow 18.5\n",
      "___/   /   /___/   /   /___/       SE—Standard Edition\n",
      "\n",
      " Statistics and Data Science       Copyright 1985-2023 StataCorp LLC\n",
      "                                   StataCorp\n",
      "                                   4905 Lakeway Drive\n",
      "                                   College Station, Texas 77845 USA\n",
      "                                   800-782-8272        https://www.stata.com\n",
      "                                   979-696-4600        service@stata.com\n",
      "\n",
      "Stata license: Unlimited-user network, expiring  9 Sep 2025\n",
      "Serial number: 501809305305\n",
      "  Licensed to: Mujie\n",
      "               \n",
      "\n",
      "Notes:\n",
      "      1. Unicode is supported; see help unicode_advice.\n",
      "      2. Maximum number of variables is set to 5,000 but can be increased;\n",
      "          see help set_maxvar.\n"
     ]
    }
   ],
   "source": [
    "import os\n",
    "os.chdir(\"/Applications/Stata/utilities\")\n",
    "from pystata import config\n",
    "config.init(\"se\")"
   ]
  },
  {
   "cell_type": "code",
   "execution_count": 2,
   "id": "2980c925-e33d-4902-806a-3d03df9ac736",
   "metadata": {},
   "outputs": [
    {
     "name": "stdout",
     "output_type": "stream",
     "text": [
      "(1978 automobile data)\n"
     ]
    }
   ],
   "source": [
    "%%stata\n",
    "sysuse auto, clear"
   ]
  },
  {
   "cell_type": "markdown",
   "id": "9c0efbc1-db3e-4e7c-93dd-10dc674aa175",
   "metadata": {},
   "source": [
    "## Hypothesis Testing"
   ]
  },
  {
   "cell_type": "code",
   "execution_count": null,
   "id": "dba47be7-5173-44bb-b87f-9d7b31db0ef3",
   "metadata": {},
   "outputs": [],
   "source": []
  }
 ],
 "metadata": {
  "kernelspec": {
   "display_name": "Python 3 (ipykernel)",
   "language": "python",
   "name": "python3"
  },
  "language_info": {
   "codemirror_mode": {
    "name": "ipython",
    "version": 3
   },
   "file_extension": ".py",
   "mimetype": "text/x-python",
   "name": "python",
   "nbconvert_exporter": "python",
   "pygments_lexer": "ipython3",
   "version": "3.10.6"
  }
 },
 "nbformat": 4,
 "nbformat_minor": 5
}

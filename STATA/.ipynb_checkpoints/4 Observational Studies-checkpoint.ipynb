{
 "cells": [
  {
   "cell_type": "markdown",
   "id": "a3a7f97e-c99b-4f5a-8d9c-6c51c95419d6",
   "metadata": {},
   "source": [
    "# OR and RR"
   ]
  }
 ],
 "metadata": {
  "kernelspec": {
   "display_name": "Python 3 (ipykernel)",
   "language": "python",
   "name": "python3"
  },
  "language_info": {
   "codemirror_mode": {
    "name": "ipython",
    "version": 3
   },
   "file_extension": ".py",
   "mimetype": "text/x-python",
   "name": "python",
   "nbconvert_exporter": "python",
   "pygments_lexer": "ipython3",
   "version": "3.10.6"
  }
 },
 "nbformat": 4,
 "nbformat_minor": 5
}

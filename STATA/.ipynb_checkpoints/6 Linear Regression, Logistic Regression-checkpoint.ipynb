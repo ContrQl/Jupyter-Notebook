{
 "cells": [
  {
   "cell_type": "markdown",
   "id": "6e578673-62fa-4056-91b3-d8522184208b",
   "metadata": {},
   "source": [
    "# Linear Regression\n",
    "\n",
    "// Multivariable Linear Regression\n",
    "// Produces anaylsis-of-variance table: coefficients (effect of independent variable on dependent variable); SEs; t-values (whether each coefficient is statistically different from 0); p-values (statistical significance of results); R-squared (proportion of variance in the dependent variable explained by the independent variables; F-statistic (whether model as a whole is statistically significant\n",
    "reg DEPENDANT VARIABLE1 ... VARIABLE(n) // where VARIABLE1 is the dependent variable and VARIABLE2-n are the independent confounding variables to be controlled. Model: DEPENDENT = α + β_2*VARIABLE2 + β_3*VARIABLE3 ... + β_n*VARIABLEn\n",
    "reg DEPENDANT VARIABLE1 // Simple linear regression. Model: VARIABLE1 = α + β*VARIABLE2\n",
    "reg DEPENDANT i.VARIABLE1 // Prefix when a predictor is categorical/binary\n",
    "\n",
    "// Key outputs for interpretation: β-coefficient, 95% CI and p-value. β-coefficienct contain 0: predictor has no effect on depandant\n",
    "\n"
   ]
  },
  {
   "cell_type": "markdown",
   "id": "c3570eb0-1884-4c3c-af6d-426bca8db1cc",
   "metadata": {},
   "source": [
    "# Logistic Regression\n",
    "\n",
    "// Logistic Regression, where the outcome (VARIABLE1) is binary\n",
    "logit DEPENDANT VARIABLE1, OR // Produces β-coefficient and OR\n",
    "logistic DEPENDANT VARIABLE1 ... VARIABLEn // Produces OR of each variable\n",
    "\n",
    "// Key outputs for interpretation: Odds Ratio, 95% CI and p-value. OR CI contain 1: predictor has no effect on dependant\n",
    "\n",
    "// Postestimation (after a linear regression)\n",
    "predict VARIABLEhat, xb // put into new variable the predicted values for the model, where hat is the statistical convention for fitted values\n",
    "predict VARIABLE, resid // put into new variable the residuals from the model\n",
    "predict VARIABLE, stdp // put into new variable the standard errors of the predicted values\n",
    "\n",
    "// Also: Test for heteroskedasticity (estat hettest); Plot residuals versus fitted values (rvfplot); Test for joint significance (test VAIRABLE1 VARIABLE2); Get VIF to check for multicollinearity (estat vif); Plot leverage vs residuals to check for outliers (lvr2plot)"
   ]
  }
 ],
 "metadata": {
  "kernelspec": {
   "display_name": "Python 3 (ipykernel)",
   "language": "python",
   "name": "python3"
  },
  "language_info": {
   "codemirror_mode": {
    "name": "ipython",
    "version": 3
   },
   "file_extension": ".py",
   "mimetype": "text/x-python",
   "name": "python",
   "nbconvert_exporter": "python",
   "pygments_lexer": "ipython3",
   "version": "3.10.6"
  }
 },
 "nbformat": 4,
 "nbformat_minor": 5
}

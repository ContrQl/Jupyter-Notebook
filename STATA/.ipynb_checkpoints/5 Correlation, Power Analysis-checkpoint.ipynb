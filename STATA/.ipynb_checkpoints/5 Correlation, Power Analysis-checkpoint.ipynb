{
 "cells": [
  {
   "cell_type": "markdown",
   "id": "9c8fa418-3863-4ad1-9d05-3c6866e8a395",
   "metadata": {},
   "source": [
    "# Correlation Matrices\n",
    "\n",
    "\n",
    "// Pearson Correlation or Product Moment Correlation\n",
    "correlate VARIABLE1 VARIABLE2 VARIABLE ... (n)\n",
    "by VARIABLE3, sort: correlate VARIABLE1 VARIABLE2 ... VARIABLE(n)\n",
    "\n",
    "// Spearman Correlation or Rank Correlation (Non-parametric; Check assumptions)\n",
    "spearman VARIABLE1 VARIABLE2\n",
    "\n",
    "//  Estimate Covariance Matrix\n",
    "correlate VARIABLE1 VARIABLE2 VARIABLE3 [aweight=VARIABLE4], covariance // where VARIABLE4 is used as analytic weight\n"
   ]
  },
  {
   "cell_type": "markdown",
   "id": "8fc69603-3d57-4f5b-aa57-4be070b07fd2",
   "metadata": {},
   "source": [
    "# Power Analysis\n",
    "Sample Size Calculations\n",
    "\n",
    "// Power Analysis (Solving for n)\n",
    "// Sample size needed for EACH GROUP to achieve 0.9 power for detecting a difference in means between the groups, given population SD of 3\n",
    "power twomeans MEAN1 MEAN2, sd(3) power(0.9) // Computes effect size from MEAN1 and 2, and thus equivalent to doing:\n",
    "power twomeans MEAN1, diff(MEAN2-1) sd(3) power(0.9)\n",
    "\n",
    "// Sample size needed to achieve 0.80 power for detecting a difference between two proportions (0.123, 0.8)\n",
    "power twoproportions 0.123 0.3, power(0.8) alpha(0.05)\n",
    "power twoproportions 0.123 diff(5), power(0.8) // Default alpha is 0.05, can be left out\n",
    "power twoproportions 0.123 0.3 n(1000) alpha(0.05) // Solves for power\n"
   ]
  }
 ],
 "metadata": {
  "kernelspec": {
   "display_name": "Python 3 (ipykernel)",
   "language": "python",
   "name": "python3"
  },
  "language_info": {
   "codemirror_mode": {
    "name": "ipython",
    "version": 3
   },
   "file_extension": ".py",
   "mimetype": "text/x-python",
   "name": "python",
   "nbconvert_exporter": "python",
   "pygments_lexer": "ipython3",
   "version": "3.10.6"
  }
 },
 "nbformat": 4,
 "nbformat_minor": 5
}

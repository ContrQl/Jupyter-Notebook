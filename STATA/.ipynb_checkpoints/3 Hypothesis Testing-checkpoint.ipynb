{
 "cells": [
  {
   "cell_type": "markdown",
   "id": "3d3b2c18-9da1-4fad-81bb-288b13da6180",
   "metadata": {},
   "source": [
    "# Hypothesis Testing\n",
    "## Parametric Tests for Continuous Data (Investigating Means)\n",
    "### One Sample t-test against Hypothesised Population Mean\n",
    "$H_0: Sample\\:Mean= Hypothesised\\:Population\\:Mean$<br>\n",
    "$H_1: Sample\\:Mean\\neq Hypothesised\\:Population\\:Mean$<br>\n",
    "Assumptions: Sample size >30 or when the population SD is known<br>\n",
    "Produces sample mean, SE, t-statistic, p(observing a value from SND (T) greater than test statistic t) or Pr(T > t) or right-tailed p-value, 95% CI"
   ]
  },
  {
   "cell_type": "code",
   "execution_count": 1,
   "id": "73e8ee4a-0ffc-4d70-93d1-7b22782fab9b",
   "metadata": {
    "scrolled": true
   },
   "outputs": [
    {
     "name": "stdout",
     "output_type": "stream",
     "text": [
      "\n",
      "  ___  ____  ____  ____  ____ ®\n",
      " /__    /   ____/   /   ____/      StataNow 18.5\n",
      "___/   /   /___/   /   /___/       SE—Standard Edition\n",
      "\n",
      " Statistics and Data Science       Copyright 1985-2023 StataCorp LLC\n",
      "                                   StataCorp\n",
      "                                   4905 Lakeway Drive\n",
      "                                   College Station, Texas 77845 USA\n",
      "                                   800-782-8272        https://www.stata.com\n",
      "                                   979-696-4600        service@stata.com\n",
      "\n",
      "Stata license: Unlimited-user network, expiring  9 Sep 2025\n",
      "Serial number: 501809305305\n",
      "  Licensed to: Mujie\n",
      "               \n",
      "\n",
      "Notes:\n",
      "      1. Unicode is supported; see help unicode_advice.\n",
      "      2. Maximum number of variables is set to 5,000 but can be increased;\n",
      "          see help set_maxvar.\n",
      "   Patient_ID  Gender  Age  Ageofonset  Dysphagia_BL  Walkingaid_BL  \\\n",
      "0           1       1   54          46             0              0   \n",
      "1           2       1   83          74             1              1   \n",
      "2           3       0   75          69             0              1   \n",
      "3           4       1   61          55             0              1   \n",
      "4           5       0   71          59             1              2   \n",
      "\n",
      "   IBMFRS_baseline  IBMFRS_1year  \n",
      "0               33            31  \n",
      "1               19            14  \n",
      "2               23            14  \n",
      "3               29            27  \n",
      "4               10            10  \n"
     ]
    }
   ],
   "source": [
    "import os\n",
    "os.chdir(\"/Applications/Stata/utilities\")\n",
    "from pystata import config\n",
    "config.init(\"se\")\n",
    "\n",
    "import pandas as pd\n",
    "\n",
    "IBM = '/Users/mujiechen/Jupyter-Notebook/STATA/Datasets/IBM.dta'\n",
    "LSS = '/Users/mujiechen/Jupyter-Notebook/STATA/Datasets/LSS.dta'\n",
    "IBM = pd.read_stata(IBM)\n",
    "LSS = pd.read_stata(LSS)\n",
    "print(IBM.head())"
   ]
  },
  {
   "cell_type": "code",
   "execution_count": 2,
   "id": "5b630fdc-c3a8-4de4-89a4-1e5d4e71f6ed",
   "metadata": {},
   "outputs": [
    {
     "name": "stdout",
     "output_type": "stream",
     "text": [
      "\n",
      ". \n",
      ". ttest IBMFRS_baseline == 25\n",
      "\n",
      "One-sample t test\n",
      "------------------------------------------------------------------------------\n",
      "Variable |     Obs        Mean    Std. err.   Std. dev.   [95% conf. interval]\n",
      "---------+--------------------------------------------------------------------\n",
      "IBMFRS~e |      30        24.8    1.295793    7.097353     22.1498     27.4502\n",
      "------------------------------------------------------------------------------\n",
      "    mean = mean(IBMFRS_baseline)                                  t =  -0.1543\n",
      "H0: mean = 25                                    Degrees of freedom =       29\n",
      "\n",
      "    Ha: mean < 25               Ha: mean != 25                 Ha: mean > 25\n",
      " Pr(T < t) = 0.4392         Pr(|T| > |t|) = 0.8784          Pr(T > t) = 0.5608\n",
      "\n",
      ". \n"
     ]
    }
   ],
   "source": [
    "%%stata -d IBM\n",
    "\n",
    "ttest IBMFRS_baseline == 25"
   ]
  },
  {
   "cell_type": "markdown",
   "id": "15289663-a38c-4f37-9cc6-76b7052bd030",
   "metadata": {},
   "source": [
    "Pr(T > t) is the likelihood of obtaining a test statistic as extreme as t, assuming the null hypothesis is true;<br>\n",
    "This is also known as the p-value, or probability of incorrectly rejecting the null hypothesis were it true\n",
    "\n",
    "Pr(T < t) is the likelihood of obtaining a test statistic less extreme than t (or the AUC to the left of the t-statistic), assuming the null hypothesis is true;<br>\n",
    "Which is equivalent to 1 - Pr(T > t)\n",
    "\n",
    "Pr(|T| > |t|) is the two-tailed probability of the test statistic being as extreme as the test statistic (usually *2 of right-tailed p-value)\n",
    "\n",
    "> N.B. The One Sample z-test is a special case in one sample z-tests, whereby the sample means follow the standard normal distribution, a special type of normal distribution whereby population mean = 0 and SD = 1"
   ]
  },
  {
   "cell_type": "markdown",
   "id": "245f2b23-4a88-4e9b-b8b1-591c3cf630a2",
   "metadata": {},
   "source": [
    "### Two Sample T-test\n",
    "$H_0: Mean\\:1 = Mean\\:2$<br>\n",
    "$H_1: Mean\\:1\\neq Mean\\:2$<br>\n",
    "Assumptions: Data follows a normal distribution<br>\n",
    "Produces means of each group, Δmeans, SE, t-statistic, p(observing a value from SND (T) greater than test statistic t) or Pr(T > t) or right-tailed p-value, 95% CI"
   ]
  },
  {
   "cell_type": "code",
   "execution_count": 3,
   "id": "7ad42263-8b23-410b-958f-c9759d6c32d8",
   "metadata": {},
   "outputs": [
    {
     "name": "stdout",
     "output_type": "stream",
     "text": [
      "\n",
      ". \n",
      ". ttest IBMFRS_1year, by(Gender)\n",
      "\n",
      "Two-sample t test with equal variances\n",
      "------------------------------------------------------------------------------\n",
      "   Group |     Obs        Mean    Std. err.   Std. dev.   [95% conf. interval]\n",
      "---------+--------------------------------------------------------------------\n",
      "       0 |       6    18.16667    2.315407    5.671567    12.21472    24.11861\n",
      "       1 |      24    23.95833    1.570192     7.69234    20.71014    27.20652\n",
      "---------+--------------------------------------------------------------------\n",
      "Combined |      30        22.8    1.390774    7.617584    19.95555    25.64445\n",
      "---------+--------------------------------------------------------------------\n",
      "    diff |           -5.791667    3.364945               -12.68444    1.101111\n",
      "------------------------------------------------------------------------------\n",
      "    diff = mean(0) - mean(1)                                      t =  -1.7212\n",
      "H0: diff = 0                                     Degrees of freedom =       28\n",
      "\n",
      "    Ha: diff < 0                 Ha: diff != 0                 Ha: diff > 0\n",
      " Pr(T < t) = 0.0481         Pr(|T| > |t|) = 0.0963          Pr(T > t) = 0.9519\n",
      "\n",
      ". \n"
     ]
    }
   ],
   "source": [
    "%%stata\n",
    "\n",
    "ttest IBMFRS_1year, by(Gender)"
   ]
  },
  {
   "cell_type": "markdown",
   "id": "6c570d24-49fc-4181-afdf-3498a64e056e",
   "metadata": {},
   "source": [
    "### Paired Samples T-test\n",
    "$H_0: Mean_{t1} = Mean_{t2}$<br>\n",
    "$H_1: Mean_{t1}\\neq Mean_{t2}$<br>\n",
    "\n",
    "or\n",
    "\n",
    "$H_0: \\Delta Mean = 0$<br>\n",
    "$H_1: \\Delta Mean\\neq 0$"
   ]
  },
  {
   "cell_type": "code",
   "execution_count": 4,
   "id": "d2c1a656-3c54-4b40-8468-fb1fea8b1547",
   "metadata": {},
   "outputs": [
    {
     "name": "stdout",
     "output_type": "stream",
     "text": [
      "\n",
      ". \n",
      ". ttest IBMFRS_baseline == IBMFRS_1year\n",
      "\n",
      "Paired t test\n",
      "------------------------------------------------------------------------------\n",
      "Variable |     Obs        Mean    Std. err.   Std. dev.   [95% conf. interval]\n",
      "---------+--------------------------------------------------------------------\n",
      "IBMFRS~e |      30        24.8    1.295793    7.097353     22.1498     27.4502\n",
      "IBMFRS~r |      30        22.8    1.390774    7.617584    19.95555    25.64445\n",
      "---------+--------------------------------------------------------------------\n",
      "    diff |      30           2    .6643638    3.638871    .6412234    3.358777\n",
      "------------------------------------------------------------------------------\n",
      "     mean(diff) = mean(IBMFRS_baseline - IBMFRS_1year)            t =   3.0104\n",
      " H0: mean(diff) = 0                              Degrees of freedom =       29\n",
      "\n",
      " Ha: mean(diff) < 0           Ha: mean(diff) != 0           Ha: mean(diff) > 0\n",
      " Pr(T < t) = 0.9973         Pr(|T| > |t|) = 0.0054          Pr(T > t) = 0.0027\n",
      "\n",
      ". gen IBMFRS_diff = IBMFRS_1year - IBMFRS_baseline\n",
      "\n",
      ". ttest IBMFRS_diff == 0\n",
      "\n",
      "One-sample t test\n",
      "------------------------------------------------------------------------------\n",
      "Variable |     Obs        Mean    Std. err.   Std. dev.   [95% conf. interval]\n",
      "---------+--------------------------------------------------------------------\n",
      "IBMFRS~f |      30          -2    .6643638    3.638871   -3.358777   -.6412234\n",
      "------------------------------------------------------------------------------\n",
      "    mean = mean(IBMFRS_diff)                                      t =  -3.0104\n",
      "H0: mean = 0                                     Degrees of freedom =       29\n",
      "\n",
      "    Ha: mean < 0                 Ha: mean != 0                 Ha: mean > 0\n",
      " Pr(T < t) = 0.0027         Pr(|T| > |t|) = 0.0054          Pr(T > t) = 0.9973\n",
      "\n",
      ". \n"
     ]
    }
   ],
   "source": [
    "%%stata\n",
    "\n",
    "ttest IBMFRS_baseline == IBMFRS_1year\n",
    "\n",
    "gen IBMFRS_diff = IBMFRS_1year - IBMFRS_baseline\n",
    "ttest IBMFRS_diff == 0"
   ]
  },
  {
   "cell_type": "markdown",
   "id": "22d78617-fa73-4608-9187-2e5f29d30e38",
   "metadata": {},
   "source": [
    "## Non-Parametric Tests for Continuous Data\n",
    "Non-parametric Tests are performed on ranked data rather than data themselves e.g. 43 68 112 452 will be coded as 1 2 3 4\n",
    "> Instead of the t-distribution, non-parametric tests rely on the standard normal distribution (or z-distribution), since the ranking and resampling data leads to approximation of SND due to the Central Limit Theorem (CLM)\n",
    "\n",
    "### Wilcoxon Rank Sum or Mann Whitney U Test\n",
    "\n",
    "$H_0: Median\\:1 = Median\\:2$<br>\n",
    "$H_1: Median\\:1\\neq Median\\:2$<br>\n",
    "\n",
    "Produces rank sum values, expected rank sum values, variance adjustment (to account for tied ranks), z-statistic, P-value or Pr > |z| or the chance of observing z-value as high as this under the $H_0$"
   ]
  },
  {
   "cell_type": "code",
   "execution_count": 5,
   "id": "c635e3b6-b63c-419d-a4bc-135c5f3a73c6",
   "metadata": {},
   "outputs": [
    {
     "name": "stdout",
     "output_type": "stream",
     "text": [
      "  PatientID  Operation  Gender  EQ5DPre  EQ5D24mts\n",
      "0      H001          1       1    0.088      0.516\n",
      "1      H002          1       0   -0.536        NaN\n",
      "2      H005          1       0    0.159      0.691\n",
      "3      H009          1       0    0.587      0.691\n",
      "4       H12          0       0   -0.016      0.516\n"
     ]
    }
   ],
   "source": [
    "print(LSS.head())"
   ]
  },
  {
   "cell_type": "code",
   "execution_count": 7,
   "id": "c8cccebe-6f72-49b5-80b6-ba9ffe670850",
   "metadata": {},
   "outputs": [
    {
     "name": "stdout",
     "output_type": "stream",
     "text": [
      "\n",
      ". \n",
      ". ranksum EQ5D24mts, by(Operation)\n",
      "\n",
      "Two-sample Wilcoxon rank-sum (Mann–Whitney) test\n",
      "\n",
      "   Operation |      Obs    Rank sum    Expected\n",
      "-------------+---------------------------------\n",
      "           0 |       24         517         516\n",
      "           1 |       18         386         387\n",
      "-------------+---------------------------------\n",
      "    Combined |       42         903         903\n",
      "\n",
      "Unadjusted variance     1548.00\n",
      "Adjustment for ties       -8.78\n",
      "                     ----------\n",
      "Adjusted variance       1539.22\n",
      "\n",
      "H0: EQ5D24~s(Operat~n==0) = EQ5D24~s(Operat~n==1)\n",
      "         z =  0.025\n",
      "Prob > |z| = 0.9797\n",
      "Exact prob = 0.9849\n",
      "\n",
      ". \n"
     ]
    }
   ],
   "source": [
    "%%stata -d LSS\n",
    "\n",
    "ranksum EQ5D24mts, by(Operation)"
   ]
  },
  {
   "cell_type": "markdown",
   "id": "bc59067f-7721-44e9-81c4-dcdb9b1a6853",
   "metadata": {},
   "source": [
    "### Paired Samples T-test (Wilcoxon Signed Rank)\n",
    "\n",
    "$H_0: Median_{t1}= Median_{t2}$<br>\n",
    "$H_1: Median_{t1}\\neq Median_{t2}$\n",
    "\n",
    "or\n",
    "\n",
    "$H_0: Median\\:of\\:\\Delta= 0$<br>\n",
    "$H_1: Median\\:of\\:\\Delta \\neq 0$"
   ]
  },
  {
   "cell_type": "code",
   "execution_count": 10,
   "id": "32622c54-617c-40ad-bea4-2091afd4d0bb",
   "metadata": {},
   "outputs": [
    {
     "name": "stdout",
     "output_type": "stream",
     "text": [
      "\n",
      ". \n",
      ". signrank EQ5DPre = EQ5D24mts\n",
      "\n",
      "Wilcoxon signed-rank test\n",
      "\n",
      "        Sign |      Obs   Sum ranks    Expected\n",
      "-------------+---------------------------------\n",
      "    Positive |       10         157         451\n",
      "    Negative |       31         745         451\n",
      "        Zero |        1           1           1\n",
      "-------------+---------------------------------\n",
      "         All |       42         903         903\n",
      "\n",
      "Unadjusted variance     6396.25\n",
      "Adjustment for ties       -1.88\n",
      "Adjustment for zeros      -0.25\n",
      "                     ----------\n",
      "Adjusted variance       6394.12\n",
      "\n",
      "H0: EQ5DPre = EQ5D24mts\n",
      "         z = -3.677\n",
      "Prob > |z| = 0.0002\n",
      "Exact prob = 0.0001\n",
      "\n",
      ". gen EQ5D_diff = EQ5D24mts - EQ5DPre\n",
      "(5 missing values generated)\n",
      "\n",
      ". signrank EQ5D_diff = 0\n",
      "\n",
      "Wilcoxon signed-rank test\n",
      "\n",
      "        Sign |      Obs   Sum ranks    Expected\n",
      "-------------+---------------------------------\n",
      "    Positive |       31         746         451\n",
      "    Negative |       10         156         451\n",
      "        Zero |        1           1           1\n",
      "-------------+---------------------------------\n",
      "         All |       42         903         903\n",
      "\n",
      "Unadjusted variance     6396.25\n",
      "Adjustment for ties       -3.00\n",
      "Adjustment for zeros      -0.25\n",
      "                     ----------\n",
      "Adjusted variance       6393.00\n",
      "\n",
      "H0: EQ5D_diff = 0\n",
      "         z =  3.690\n",
      "Prob > |z| = 0.0002\n",
      "Exact prob = 0.0001\n",
      "\n",
      ". \n"
     ]
    }
   ],
   "source": [
    "%%stata\n",
    "\n",
    "signrank EQ5DPre = EQ5D24mts\n",
    "\n",
    "gen EQ5D_diff = EQ5D24mts - EQ5DPre\n",
    "signrank EQ5D_diff = 0"
   ]
  },
  {
   "cell_type": "markdown",
   "id": "54a13c55-7ede-4029-b53a-4ff800ab7c80",
   "metadata": {},
   "source": [
    "### 95% Confidence Interval\n",
    "For centile difference as opposed to \"ci\" for mean difference"
   ]
  },
  {
   "cell_type": "code",
   "execution_count": 12,
   "id": "29d19d27-1cd2-49f3-91dd-d11fbf2ef4eb",
   "metadata": {},
   "outputs": [
    {
     "name": "stdout",
     "output_type": "stream",
     "text": [
      "\n",
      ". \n",
      ". centile EQ5D_diff, centile(50)\n",
      "\n",
      "                                                          Binom. interp.   \n",
      "    Variable |       Obs  Percentile    Centile        [95% conf. interval]\n",
      "-------------+-------------------------------------------------------------\n",
      "   EQ5D_diff |        42         50       .2745            .104    .3526933\n",
      "\n",
      ". \n"
     ]
    }
   ],
   "source": [
    "%%stata\n",
    "\n",
    "centile EQ5D_diff, centile(50)"
   ]
  },
  {
   "cell_type": "markdown",
   "id": "c20314e3-e8a5-4748-b23e-cb7a6f018ce9",
   "metadata": {},
   "source": [
    "If 95% CI is narrow and exclude 0, $H_0$ can be rejected"
   ]
  },
  {
   "cell_type": "markdown",
   "id": "fe3031f6-02b8-4636-a913-e90c5829375c",
   "metadata": {},
   "source": [
    "____________________________________________________________________________________________________\n",
    "## Parametric Tests for Categorical Data (Investigating Proportions)\n",
    "### Two Sample T-test for Proportions\n",
    "$H_0: Proportion\\:1 = Proportion\\:2$<br>\n",
    "$H_0: Proportion\\:2\\neq Proportion\\:2$<br>\n",
    "Produces proportions of each group, Δproportions, SE, z-statistic, p(observing a value from SND (Z) greater than test statistic z) or Pr(Z > z) or right-tailed p-value, 95% CI"
   ]
  },
  {
   "cell_type": "markdown",
   "id": "986800e4-7cb2-4d6a-a6a7-2bd851da2586",
   "metadata": {},
   "source": [
    "> One Group Z-test for proportions (binary outcomes)"
   ]
  },
  {
   "cell_type": "code",
   "execution_count": null,
   "id": "ae6a8120-6848-4a9e-ab20-89df971c75f3",
   "metadata": {},
   "outputs": [],
   "source": [
    "%%stata\n",
    "\n",
    "prtest Dysphagia_BL, by(Gender)\n",
    "prtesti 20 12 33 22, count // The immediate test whereby proportions are known but you may not have data"
   ]
  },
  {
   "cell_type": "markdown",
   "id": "001db39b-550a-4066-9ee9-ed773ca96a33",
   "metadata": {},
   "source": [
    "Pr(Z > z) is used to determine the likelihood of obtaining a test statistic as extreme as z, assuming the null hypothesis is true;<br>\n",
    "This is also known as the p-value, or probability of incorrectly rejecting the null hypothesis were it true"
   ]
  },
  {
   "cell_type": "markdown",
   "id": "2ad43ae1-977f-4567-8214-78e6e73165c4",
   "metadata": {},
   "source": [
    "### Chi-Square Test (5 and up), Fischer's Exact Test (<5 in contingency table)"
   ]
  },
  {
   "cell_type": "code",
   "execution_count": null,
   "id": "48b48a8a-4cf0-4332-8bfa-89f4fe83f472",
   "metadata": {},
   "outputs": [],
   "source": [
    "%%stata\n",
    "\n"
   ]
  }
 ],
 "metadata": {
  "kernelspec": {
   "display_name": "Python 3 (ipykernel)",
   "language": "python",
   "name": "python3"
  },
  "language_info": {
   "codemirror_mode": {
    "name": "ipython",
    "version": 3
   },
   "file_extension": ".py",
   "mimetype": "text/x-python",
   "name": "python",
   "nbconvert_exporter": "python",
   "pygments_lexer": "ipython3",
   "version": "3.10.6"
  }
 },
 "nbformat": 4,
 "nbformat_minor": 5
}

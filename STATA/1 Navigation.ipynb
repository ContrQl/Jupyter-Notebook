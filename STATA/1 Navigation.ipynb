{
 "cells": [
  {
   "cell_type": "code",
   "execution_count": null,
   "id": "129f6cf5-e157-4675-b695-253c9db224dd",
   "metadata": {
    "jupyter": {
     "source_hidden": true
    }
   },
   "outputs": [],
   "source": [
    "from IPython.display import display, HTML\n",
    "\n",
    "# Add scrollable CSS styling for outputs\n",
    "display(HTML(\"\"\"\n",
    "<style>\n",
    ".output_scroll {\n",
    "    max-height: 400px;\n",
    "    overflow-y: auto;\n",
    "    border: 1px solid #ddd;\n",
    "    padding: 10px;\n",
    "}\n",
    "</style>\n",
    "\"\"\"))"
   ]
  },
  {
   "cell_type": "markdown",
   "id": "703baad3-9bbe-4663-bedb-6b89b5b234c6",
   "metadata": {},
   "source": [
    "# Navigation\n",
    "\n",
    "Open STATA to its landing page"
   ]
  },
  {
   "cell_type": "code",
   "execution_count": null,
   "id": "3a77c6c5-31f1-4c6f-91bb-8afe3f2279c6",
   "metadata": {},
   "outputs": [],
   "source": [
    "import os\n",
    "os.chdir(\"/Applications/Stata/utilities\")\n",
    "from pystata import config\n",
    "config.init(\"se\")"
   ]
  },
  {
   "cell_type": "markdown",
   "id": "0fcdb6f8-eaf7-4918-ac19-39f1790766e7",
   "metadata": {},
   "source": [
    "## Calculations without a dataset\n",
    "STATA supports simple arithmetic"
   ]
  },
  {
   "cell_type": "code",
   "execution_count": null,
   "id": "a963228d-1900-4c0c-9326-f9105d6b154f",
   "metadata": {},
   "outputs": [],
   "source": [
    "%%stata\n",
    "di 5 * 2\n",
    "di 10 / 2"
   ]
  },
  {
   "cell_type": "markdown",
   "id": "13a2fc67-e5da-4b11-a798-570c911280b7",
   "metadata": {},
   "source": [
    "## Opening a .dta dataset\n",
    "\n",
    "Open your own .dta or csv file in STATA using \"use FILE.dta\"<br>\n",
    "STATA also contains built-in and online datasets using \"sysuse FILE.dta\" or \"webuse FILE.dta\" respectively"
   ]
  },
  {
   "cell_type": "code",
   "execution_count": null,
   "id": "5fec8c5b-6b06-4cc6-a5a2-04c23008fbc0",
   "metadata": {},
   "outputs": [],
   "source": [
    "%%stata\n",
    "sysuse auto, clear\n",
    "sum mpg"
   ]
  },
  {
   "cell_type": "code",
   "execution_count": null,
   "id": "da3394d7-244f-44c0-bca5-cd1d65847251",
   "metadata": {},
   "outputs": [],
   "source": [
    "import pandas as pd\n",
    "\n",
    "babies = '/Users/mujiechen/Jupyter-Notebook/STATA/Datasets/babies.dta'\n",
    "babies = pd.read_stata(babies)\n",
    "print(babies.head())\n",
    "\n",
    "import io\n",
    "import requests\n",
    "\n",
    "data = requests.get(\"https://www.stata.com/python/pystata18/misc/nhanes2.csv\").content\n",
    "nhanes2 = pd.read_csv(io.StringIO(data.decode(\"utf-8\")))\n",
    "nhanes2"
   ]
  },
  {
   "cell_type": "markdown",
   "id": "793f8be8-6112-453c-b2d3-2d8803389596",
   "metadata": {},
   "source": [
    "## Display All Data\n",
    "Using \"br\" or \"br VARIABLE\""
   ]
  },
  {
   "cell_type": "code",
   "execution_count": null,
   "id": "ffd11623-e5fd-4d35-a6eb-9ef4ba88cef0",
   "metadata": {
    "scrolled": true
   },
   "outputs": [],
   "source": [
    "%%stata -d babies\n",
    "list _all"
   ]
  },
  {
   "cell_type": "markdown",
   "id": "47add8a8-c418-410c-b562-d42e5c19c541",
   "metadata": {},
   "source": [
    "## One Way Table Showing Frequency of Variable"
   ]
  },
  {
   "cell_type": "code",
   "execution_count": null,
   "id": "40abbb7d-b4f0-414b-8943-e636b6e2e556",
   "metadata": {},
   "outputs": [],
   "source": [
    "%%stata\n",
    "tab bwt"
   ]
  },
  {
   "cell_type": "markdown",
   "id": "9cda1736-9f05-4ad4-aaa3-cc6a8f6fdaa2",
   "metadata": {},
   "source": [
    "## Two Way Table Showing Frequency of Two Variables\n",
    "Summarises the relationship between two categorical variables, where the first argument is shown in the row, and the second argument is shown in the column<br>\n",
    "\", row\" shows within-row relative frequencies in %"
   ]
  },
  {
   "cell_type": "code",
   "execution_count": null,
   "id": "78aa0fee-e7fb-4186-9b9f-c19683abf015",
   "metadata": {},
   "outputs": [],
   "source": [
    "%%stata\n",
    "tab bwt gest, row"
   ]
  },
  {
   "cell_type": "markdown",
   "id": "96e90f98-f21e-4dd3-98c7-f2e4c1e7494e",
   "metadata": {},
   "source": [
    "## Reveal Structure and Properties of Dataset (a la .schema for SQL)\n",
    "Each variable has:\n",
    "1. Variable name, storage type (int, byte, long, float, double etc.)\n",
    "2. Display format\n",
    "3. Value label (key-value pairs that store numerical values but display text)\n",
    "4. Variable label (a longer description of the variable e.g. specifying units)"
   ]
  },
  {
   "cell_type": "code",
   "execution_count": null,
   "id": "7425c9e1-fa69-458a-91c3-20ab1c650b15",
   "metadata": {},
   "outputs": [],
   "source": [
    "%%stata\n",
    "describe"
   ]
  },
  {
   "cell_type": "markdown",
   "id": "81bed455-1a84-403f-8cbc-c0a393fc7882",
   "metadata": {},
   "source": [
    "## Show any Notes attached to the Dataset"
   ]
  },
  {
   "cell_type": "code",
   "execution_count": null,
   "id": "c3c60348-c8e6-415a-a98a-4fb68b8c5df0",
   "metadata": {},
   "outputs": [],
   "source": [
    "%%stata\n",
    "notes"
   ]
  },
  {
   "cell_type": "markdown",
   "id": "23ce18b9-faa0-42d1-9f88-38668a0bef3a",
   "metadata": {},
   "source": [
    "## Show Variable Name, Label, and some Summary Statistics\n",
    "Shows if all values are unique, contains blanks, are missing any values (\".\" or \".a\" or \"-.z\")<br>\n",
    "If values are unique, the variable can possibly be used as an identifier<br>\n",
    "If the variable is an <i>indicator</i> variable, this function will reveal key-value pairs<br>\n",
    "Indicator variables use less memory and can be worked into statistical models"
   ]
  },
  {
   "cell_type": "code",
   "execution_count": null,
   "id": "9eb23e90-0d4f-4326-864a-a7104ff0a66f",
   "metadata": {},
   "outputs": [],
   "source": [
    "%%stata\n",
    "codebook bwt"
   ]
  },
  {
   "cell_type": "markdown",
   "id": "eb317781-72c7-432c-83bf-52d5a4970dd1",
   "metadata": {},
   "source": [
    "## Creating and Deleting Variables"
   ]
  },
  {
   "cell_type": "code",
   "execution_count": null,
   "id": "c6ced457-1393-486f-a72d-d8ea7a79b376",
   "metadata": {},
   "outputs": [],
   "source": [
    "%%stata\n",
    "\n",
    "gen bwt_mg = bwt*1000\n",
    "drop bwt_mg\n",
    "\n",
    "gen bwt_kg = bwt/1000\n",
    "label variable bwt_kg \"birth weight in kilograms\"\n",
    "drop if bwt_kg < 2\n",
    "# Can be used to remove outliers in data"
   ]
  },
  {
   "cell_type": "markdown",
   "id": "9fb00381-13a0-4c6b-964d-5656bdb95dd5",
   "metadata": {},
   "source": [
    "## Dichotomise (or Stratify) Data"
   ]
  },
  {
   "cell_type": "code",
   "execution_count": null,
   "id": "cb8dc3e1-5e03-4ba8-911d-a5bc5bc10566",
   "metadata": {},
   "outputs": [],
   "source": [
    "%%stata\n",
    "\n",
    "gen bwt_strat = .  // Create the variable bwt_strat and initialize with missing values\n",
    "replace bwt_strat = 0 if bwt_kg < 3  // Values in the low group become 0\n",
    "replace bwt_strat = 1 if bwt_kg >= 3 & bwt_kg != .  // Values in the high group become 1"
   ]
  },
  {
   "cell_type": "markdown",
   "id": "6ed4696f-d9b1-4e98-823f-d81eee7e2ddf",
   "metadata": {},
   "source": [
    "## Recode Data into Multiple Groups\n",
    "Specify the categories or bins in brackets"
   ]
  },
  {
   "cell_type": "code",
   "execution_count": null,
   "id": "44e77913-e8d0-46cc-85d7-a5d9c2545f75",
   "metadata": {},
   "outputs": [],
   "source": [
    "%%stata\n",
    "\n",
    "recode bwt_kg (0=0) (2/2.5=1) (2.5/3=2) (3/3.5=3) (3.5/max=4), gen(bwt_500g_splits)"
   ]
  }
 ],
 "metadata": {
  "kernelspec": {
   "display_name": "Python 3 (ipykernel)",
   "language": "python",
   "name": "python3"
  },
  "language_info": {
   "codemirror_mode": {
    "name": "ipython",
    "version": 3
   },
   "file_extension": ".py",
   "mimetype": "text/x-python",
   "name": "python",
   "nbconvert_exporter": "python",
   "pygments_lexer": "ipython3",
   "version": "3.10.6"
  }
 },
 "nbformat": 4,
 "nbformat_minor": 5
}

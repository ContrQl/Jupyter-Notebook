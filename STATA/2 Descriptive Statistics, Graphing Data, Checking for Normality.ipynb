{
 "cells": [
  {
   "cell_type": "markdown",
   "id": "c8cc4454-7082-4b1b-94d3-8345d95fde82",
   "metadata": {},
   "source": [
    "# Descriptive Statistics\n",
    "\n",
    "## Summarise variables in detail\n",
    "N.B. Variable name is case-sensitive<br>\n",
    "Reveals 1, 5, 10, 25 (1Q), 50 (median), 75 (3Q), 90, 95, 99 percentiles values, the four smallest and four biggest values at the extremes, mean, SD, Variance, Skewness, and Kurtosis<br>\n",
    "IQR = 3Q - 1Q"
   ]
  },
  {
   "cell_type": "code",
   "execution_count": 1,
   "id": "9794006b-b8ac-4165-ae37-a2fa8d3aab3c",
   "metadata": {
    "collapsed": true,
    "jupyter": {
     "outputs_hidden": true,
     "source_hidden": true
    }
   },
   "outputs": [
    {
     "name": "stdout",
     "output_type": "stream",
     "text": [
      "\n",
      "  ___  ____  ____  ____  ____ ®\n",
      " /__    /   ____/   /   ____/      StataNow 18.5\n",
      "___/   /   /___/   /   /___/       SE—Standard Edition\n",
      "\n",
      " Statistics and Data Science       Copyright 1985-2023 StataCorp LLC\n",
      "                                   StataCorp\n",
      "                                   4905 Lakeway Drive\n",
      "                                   College Station, Texas 77845 USA\n",
      "                                   800-782-8272        https://www.stata.com\n",
      "                                   979-696-4600        service@stata.com\n",
      "\n",
      "Stata license: Unlimited-user network, expiring  9 Sep 2025\n",
      "Serial number: 501809305305\n",
      "  Licensed to: Mujie\n",
      "               \n",
      "\n",
      "Notes:\n",
      "      1. Unicode is supported; see help unicode_advice.\n",
      "      2. Maximum number of variables is set to 5,000 but can be increased;\n",
      "          see help set_maxvar.\n",
      "   Ordinary1213  Daycase1213  Total1213  Ordinary1314  Daycase1314  Total1314\n",
      "0          2268         1213       3481          2585         1423       4008\n",
      "1          1269          581       1850          1261          661       1922\n",
      "2          2124          960       3084          2201         1173       3374\n",
      "3          1973          837       2810          2275          962       3237\n",
      "4          4804         2051       6855          4411         2183       6594\n"
     ]
    }
   ],
   "source": [
    "import os\n",
    "os.chdir(\"/Applications/Stata/utilities\")\n",
    "from pystata import config\n",
    "config.init(\"se\")\n",
    "\n",
    "import pandas as pd\n",
    "\n",
    "Hospital = '/Users/mujiechen/Jupyter-Notebook/STATA/Datasets/HospAdmNeu.dta'\n",
    "Hospital = pd.read_stata(Hospital)\n",
    "print(Hospital.head())"
   ]
  },
  {
   "cell_type": "code",
   "execution_count": 2,
   "id": "d600045b-34ff-43fc-8ee1-654a33954184",
   "metadata": {},
   "outputs": [
    {
     "name": "stdout",
     "output_type": "stream",
     "text": [
      "\n",
      ". \n",
      ". summ Ordinary1213, det\n",
      "\n",
      "                        Ordinary1213\n",
      "-------------------------------------------------------------\n",
      "      Percentiles      Smallest\n",
      " 1%          929            731\n",
      " 5%         1300            924\n",
      "10%         1612            929       Obs                 211\n",
      "25%         2269            946       Sum of wgt.         211\n",
      "\n",
      "50%         2895                      Mean           3399.441\n",
      "                        Largest       Std. dev.      1858.054\n",
      "75%         4013           9567\n",
      "90%         5815           9635       Variance        3452364\n",
      "95%         7365          10974       Skewness       1.843971\n",
      "99%         9635          12958       Kurtosis       7.720899\n",
      "\n",
      ". \n",
      ". # Use tab var1, summ(var2) to produce summary for var1 split by var2\n",
      "Unknown #command\n",
      ". \n"
     ]
    }
   ],
   "source": [
    "%%stata -d Hospital\n",
    "\n",
    "summ Ordinary1213, det\n",
    "\n",
    "# Use tab var1, summ(var2) to produce summary for var1 split by var2"
   ]
  },
  {
   "cell_type": "markdown",
   "id": "e3a853a8-7d04-455b-84b4-6c333fca9abd",
   "metadata": {},
   "source": [
    "Mild outliers (Inner Fence): 1.5 * IQR Below Q1 and above Q3<br>\n",
    "Extreme outliers (Outer Fence): 3 * IQR Below Q1 and above Q3\n",
    "\n",
    "## Produce Mean, SE, and 95% Confidence Interval"
   ]
  },
  {
   "cell_type": "code",
   "execution_count": 3,
   "id": "892971ec-5a53-4ffe-9f3f-828e4a9435b9",
   "metadata": {},
   "outputs": [
    {
     "name": "stdout",
     "output_type": "stream",
     "text": [
      "\n",
      ". \n",
      ". ci means Ordinary1213\n",
      "\n",
      "    Variable |        Obs        Mean    Std. err.       [95% conf. interval]\n",
      "-------------+---------------------------------------------------------------\n",
      "Ordinary1213 |        211    3399.441    127.9137        3147.281      3651.6\n",
      "\n",
      ". \n"
     ]
    }
   ],
   "source": [
    "%%stata\n",
    "\n",
    "ci means Ordinary1213"
   ]
  },
  {
   "cell_type": "markdown",
   "id": "448718bd-81fa-43be-bea0-0cd3a7270a08",
   "metadata": {},
   "source": [
    "# Graphing Data"
   ]
  },
  {
   "cell_type": "markdown",
   "id": "35ba0dee-008b-48ad-80c7-08a453b1a098",
   "metadata": {},
   "source": [
    "# Checking for Normality"
   ]
  }
 ],
 "metadata": {
  "kernelspec": {
   "display_name": "Python 3 (ipykernel)",
   "language": "python",
   "name": "python3"
  },
  "language_info": {
   "codemirror_mode": {
    "name": "ipython",
    "version": 3
   },
   "file_extension": ".py",
   "mimetype": "text/x-python",
   "name": "python",
   "nbconvert_exporter": "python",
   "pygments_lexer": "ipython3",
   "version": "3.10.6"
  }
 },
 "nbformat": 4,
 "nbformat_minor": 5
}

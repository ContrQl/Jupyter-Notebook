{
 "cells": [
  {
   "cell_type": "markdown",
   "id": "448718bd-81fa-43be-bea0-0cd3a7270a08",
   "metadata": {},
   "source": [
    "# Graphing Data"
   ]
  },
  {
   "cell_type": "markdown",
   "id": "35ba0dee-008b-48ad-80c7-08a453b1a098",
   "metadata": {},
   "source": [
    "# Checking for Normality"
   ]
  }
 ],
 "metadata": {
  "kernelspec": {
   "display_name": "Python 3 (ipykernel)",
   "language": "python",
   "name": "python3"
  },
  "language_info": {
   "codemirror_mode": {
    "name": "ipython",
    "version": 3
   },
   "file_extension": ".py",
   "mimetype": "text/x-python",
   "name": "python",
   "nbconvert_exporter": "python",
   "pygments_lexer": "ipython3",
   "version": "3.10.6"
  }
 },
 "nbformat": 4,
 "nbformat_minor": 5
}

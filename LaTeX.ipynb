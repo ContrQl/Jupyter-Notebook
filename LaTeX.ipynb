{
 "cells": [
  {
   "cell_type": "markdown",
   "id": "10a770d9-b8d9-430c-afa3-91540a25a9d1",
   "metadata": {},
   "source": [
    "$$A_b * B + mc$$"
   ]
  },
  {
   "cell_type": "code",
   "execution_count": null,
   "id": "eb2f089a-7f9e-4200-81b0-d34bd1f75cf7",
   "metadata": {},
   "outputs": [],
   "source": [
    "test"
   ]
  }
 ],
 "metadata": {
  "kernelspec": {
   "display_name": "Python 3 (ipykernel)",
   "language": "python",
   "name": "python3"
  },
  "language_info": {
   "codemirror_mode": {
    "name": "ipython",
    "version": 3
   },
   "file_extension": ".py",
   "mimetype": "text/x-python",
   "name": "python",
   "nbconvert_exporter": "python",
   "pygments_lexer": "ipython3",
   "version": "3.10.6"
  }
 },
 "nbformat": 4,
 "nbformat_minor": 5
}

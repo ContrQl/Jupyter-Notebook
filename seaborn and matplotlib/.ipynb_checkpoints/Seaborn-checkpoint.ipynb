{
 "cells": [
  {
   "cell_type": "code",
   "execution_count": 1,
   "id": "1efb0dc8-6a05-4f96-b793-55e2d233417d",
   "metadata": {},
   "outputs": [],
   "source": [
    "import matplotlib.pyplot as plt\n",
    "import seaborn as sns\n",
    "import pandas as pd\n",
    "\n",
    "sns.set_theme()\n",
    "\n",
    "seaborn_demo = 'seaborn_demo.xlsx'\n",
    "dfs = pd.read_excel(seaborn_demo, sheet_name=None)\n",
    "\n"
   ]
  },
  {
   "cell_type": "code",
   "execution_count": 3,
   "id": "de966c0f-f172-47d7-8ae4-4d5cf48f575c",
   "metadata": {},
   "outputs": [
    {
     "name": "stdout",
     "output_type": "stream",
     "text": [
      "[[ 3.6937977   0.05570789  0.18152789]\n",
      " [ 1.49683154  2.59618734 -2.85968266]]\n"
     ]
    }
   ],
   "source": [
    "from numpy import random\n",
    "x = random.normal(loc=1, scale=2, size=(2,3)) # loc = Mean; scale = SD\n",
    "\n",
    "print(x)"
   ]
  },
  {
   "cell_type": "code",
   "execution_count": null,
   "id": "21771a02-666f-4e4a-9121-0018dd4881dc",
   "metadata": {},
   "outputs": [],
   "source": [
    "from numpy import random\n",
    "\n",
    "sns.displot(random.normal(size=5000))\n",
    "\n",
    "plt.show()"
   ]
  },
  {
   "cell_type": "code",
   "execution_count": null,
   "id": "0e9cdc8a-8792-4d1e-ada7-63441d2c66dc",
   "metadata": {},
   "outputs": [],
   "source": []
  }
 ],
 "metadata": {
  "kernelspec": {
   "display_name": "Python 3 (ipykernel)",
   "language": "python",
   "name": "python3"
  },
  "language_info": {
   "codemirror_mode": {
    "name": "ipython",
    "version": 3
   },
   "file_extension": ".py",
   "mimetype": "text/x-python",
   "name": "python",
   "nbconvert_exporter": "python",
   "pygments_lexer": "ipython3",
   "version": "3.10.6"
  }
 },
 "nbformat": 4,
 "nbformat_minor": 5
}
